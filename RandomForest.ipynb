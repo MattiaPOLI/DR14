{
  "nbformat": 4,
  "nbformat_minor": 0,
  "metadata": {
    "colab": {
      "name": "RandomForest.ipynb",
      "version": "0.3.2",
      "provenance": [],
      "include_colab_link": true
    },
    "kernelspec": {
      "name": "python3",
      "display_name": "Python 3"
    }
  },
  "cells": [
    {
      "cell_type": "markdown",
      "metadata": {
        "id": "view-in-github",
        "colab_type": "text"
      },
      "source": [
        "<a href=\"https://colab.research.google.com/github/MattiaPOLI/DR14/blob/master/RandomForest.ipynb\" target=\"_parent\"><img src=\"https://colab.research.google.com/assets/colab-badge.svg\" alt=\"Open In Colab\"/></a>"
      ]
    },
    {
      "cell_type": "code",
      "metadata": {
        "id": "XlJ2ip_O4Gvt",
        "colab_type": "code",
        "outputId": "1fb1d6c1-f1b9-4f9d-ed59-c5f4d645053e",
        "colab": {
          "base_uri": "https://localhost:8080/",
          "height": 136
        }
      },
      "source": [
        "!rm -rf DR14\n",
        "!git clone https://github.com/MattiaPOLI/DR14.git"
      ],
      "execution_count": 17,
      "outputs": [
        {
          "output_type": "stream",
          "text": [
            "Cloning into 'DR14'...\n",
            "remote: Enumerating objects: 116, done.\u001b[K\n",
            "remote: Counting objects:   0% (1/116)\u001b[K\rremote: Counting objects:   1% (2/116)\u001b[K\rremote: Counting objects:   2% (3/116)\u001b[K\rremote: Counting objects:   3% (4/116)\u001b[K\rremote: Counting objects:   4% (5/116)\u001b[K\rremote: Counting objects:   5% (6/116)\u001b[K\rremote: Counting objects:   6% (7/116)\u001b[K\rremote: Counting objects:   7% (9/116)\u001b[K\rremote: Counting objects:   8% (10/116)\u001b[K\rremote: Counting objects:   9% (11/116)\u001b[K\rremote: Counting objects:  10% (12/116)\u001b[K\rremote: Counting objects:  11% (13/116)\u001b[K\rremote: Counting objects:  12% (14/116)\u001b[K\rremote: Counting objects:  13% (16/116)\u001b[K\rremote: Counting objects:  14% (17/116)\u001b[K\rremote: Counting objects:  15% (18/116)\u001b[K\rremote: Counting objects:  16% (19/116)\u001b[K\rremote: Counting objects:  17% (20/116)\u001b[K\rremote: Counting objects:  18% (21/116)\u001b[K\rremote: Counting objects:  19% (23/116)\u001b[K\rremote: Counting objects:  20% (24/116)\u001b[K\rremote: Counting objects:  21% (25/116)\u001b[K\rremote: Counting objects:  22% (26/116)\u001b[K\rremote: Counting objects:  23% (27/116)\u001b[K\rremote: Counting objects:  24% (28/116)\u001b[K\rremote: Counting objects:  25% (29/116)\u001b[K\rremote: Counting objects:  26% (31/116)\u001b[K\rremote: Counting objects:  27% (32/116)\u001b[K\rremote: Counting objects:  28% (33/116)\u001b[K\rremote: Counting objects:  29% (34/116)\u001b[K\rremote: Counting objects:  30% (35/116)\u001b[K\rremote: Counting objects:  31% (36/116)\u001b[K\rremote: Counting objects:  32% (38/116)\u001b[K\rremote: Counting objects:  33% (39/116)\u001b[K\rremote: Counting objects:  34% (40/116)\u001b[K\rremote: Counting objects:  35% (41/116)\u001b[K\rremote: Counting objects:  36% (42/116)\u001b[K\rremote: Counting objects:  37% (43/116)\u001b[K\rremote: Counting objects:  38% (45/116)\u001b[K\rremote: Counting objects:  39% (46/116)\u001b[K\rremote: Counting objects:  40% (47/116)\u001b[K\rremote: Counting objects:  41% (48/116)\u001b[K\rremote: Counting objects:  42% (49/116)\u001b[K\rremote: Counting objects:  43% (50/116)\u001b[K\rremote: Counting objects:  44% (52/116)\u001b[K\rremote: Counting objects:  45% (53/116)\u001b[K\rremote: Counting objects:  46% (54/116)\u001b[K\rremote: Counting objects:  47% (55/116)\u001b[K\rremote: Counting objects:  48% (56/116)\u001b[K\rremote: Counting objects:  49% (57/116)\u001b[K\rremote: Counting objects:  50% (58/116)\u001b[K\rremote: Counting objects:  51% (60/116)\u001b[K\rremote: Counting objects:  52% (61/116)\u001b[K\rremote: Counting objects:  53% (62/116)\u001b[K\rremote: Counting objects:  54% (63/116)\u001b[K\rremote: Counting objects:  55% (64/116)\u001b[K\rremote: Counting objects:  56% (65/116)\u001b[K\rremote: Counting objects:  57% (67/116)\u001b[K\rremote: Counting objects:  58% (68/116)\u001b[K\rremote: Counting objects:  59% (69/116)\u001b[K\rremote: Counting objects:  60% (70/116)\u001b[K\rremote: Counting objects:  61% (71/116)\u001b[K\rremote: Counting objects:  62% (72/116)\u001b[K\rremote: Counting objects:  63% (74/116)\u001b[K\rremote: Counting objects:  64% (75/116)\u001b[K\rremote: Counting objects:  65% (76/116)\u001b[K\rremote: Counting objects:  66% (77/116)\u001b[K\rremote: Counting objects:  67% (78/116)\u001b[K\rremote: Counting objects:  68% (79/116)\u001b[K\rremote: Counting objects:  69% (81/116)\u001b[K\rremote: Counting objects:  70% (82/116)\u001b[K\rremote: Counting objects:  71% (83/116)\u001b[K\rremote: Counting objects:  72% (84/116)\u001b[K\rremote: Counting objects:  73% (85/116)\u001b[K\rremote: Counting objects:  74% (86/116)\u001b[K\rremote: Counting objects:  75% (87/116)\u001b[K\rremote: Counting objects:  76% (89/116)\u001b[K\rremote: Counting objects:  77% (90/116)\u001b[K\rremote: Counting objects:  78% (91/116)\u001b[K\rremote: Counting objects:  79% (92/116)\u001b[K\rremote: Counting objects:  80% (93/116)\u001b[K\rremote: Counting objects:  81% (94/116)\u001b[K\rremote: Counting objects:  82% (96/116)\u001b[K\rremote: Counting objects:  83% (97/116)\u001b[K\rremote: Counting objects:  84% (98/116)\u001b[K\rremote: Counting objects:  85% (99/116)\u001b[K\rremote: Counting objects:  86% (100/116)\u001b[K\rremote: Counting objects:  87% (101/116)\u001b[K\rremote: Counting objects:  88% (103/116)\u001b[K\rremote: Counting objects:  89% (104/116)\u001b[K\rremote: Counting objects:  90% (105/116)\u001b[K\rremote: Counting objects:  91% (106/116)\u001b[K\rremote: Counting objects:  92% (107/116)\u001b[K\rremote: Counting objects:  93% (108/116)\u001b[K\rremote: Counting objects:  94% (110/116)\u001b[K\rremote: Counting objects:  95% (111/116)\u001b[K\rremote: Counting objects:  96% (112/116)\u001b[K\rremote: Counting objects:  97% (113/116)\u001b[K\rremote: Counting objects:  98% (114/116)\u001b[K\rremote: Counting objects:  99% (115/116)\u001b[K\rremote: Counting objects: 100% (116/116)\u001b[K\rremote: Counting objects: 100% (116/116), done.\u001b[K\n",
            "remote: Compressing objects: 100% (116/116), done.\u001b[K\n",
            "remote: Total 260 (delta 68), reused 0 (delta 0), pack-reused 144\u001b[K\n",
            "Receiving objects: 100% (260/260), 3.88 MiB | 7.15 MiB/s, done.\n",
            "Resolving deltas: 100% (131/131), done.\n"
          ],
          "name": "stdout"
        }
      ]
    },
    {
      "cell_type": "code",
      "metadata": {
        "id": "lcZD4B_t3rQ-",
        "colab_type": "code",
        "colab": {}
      },
      "source": [
        "from sklearn.preprocessing import StandardScaler\n",
        "from sklearn.decomposition import PCA\n",
        "from sklearn.model_selection import train_test_split\n",
        "from DR14 import CommonTools\n",
        "import IPython\n",
        "import plotly\n",
        "import plotly.graph_objs as go\n",
        "import plotly.plotly as py\n",
        "import pandas as pd\n",
        "import numpy as np\n",
        "import io"
      ],
      "execution_count": 0,
      "outputs": []
    },
    {
      "cell_type": "code",
      "metadata": {
        "id": "zMMiNGKZY9uu",
        "colab_type": "code",
        "colab": {
          "base_uri": "https://localhost:8080/",
          "height": 542
        },
        "outputId": "ac99f732-766d-48ee-cadd-fe21fc0519d2"
      },
      "source": [
        "#original dataset\n",
        "\n",
        "x_orig, y_orig = CommonTools.get_raw_dataset()\n",
        "\n",
        "trainSet, test, labelTrainSet, labelTest = train_test_split(x_orig, y_orig, train_size = 0.7, test_size = 0.3, random_state = 40)\n",
        "\n",
        "numberTrees = [50, 100, 200, 300, 350, 400, 500]\n",
        "numberFeatures = [2, 3, 4, 5]\n",
        "accuracy = np.zeros(shape = (len(numberTrees), len(numberFeatures)))\n",
        "\n",
        "for i in range(len(numberTrees)):\n",
        "  for j in range(len(numberFeatures)):\n",
        "    RFC = RandomForestClassifier(n_estimators = numberTrees[i], random_state=0, oob_score = True,\n",
        "                                max_features = numberFeatures[j], bootstrap = True)\n",
        "    RFC.fit(trainSet, labelTrainSet)\n",
        "    accuracy[i][j] = RFC.oob_score_\n",
        "    \n",
        "trace = go.Heatmap(\n",
        "    z = accuracy,\n",
        "    colorscale = \"Blues\",\n",
        "    reversescale = True\n",
        ")\n",
        "layout = go.Layout(\n",
        "    title = \"OOB error\",\n",
        "    xaxis = dict(\n",
        "        tickmode = \"array\",\n",
        "        tickvals = np.linspace(0, len(numberFeatures), num = len(numberFeatures) + 1),       \n",
        "        ticktext = [\"2\", \"3\", \"4\", \"5\"],\n",
        "        title = \"N° Features\"      \n",
        "    ),\n",
        "    yaxis = dict(\n",
        "        tickmode = \"array\",\n",
        "        tickvals = np.linspace(0, len(numberTrees), num = len(numberTrees) + 1),\n",
        "        ticktext = [\"50\", \"100\", \"200\", \"300\", \"350\", \"400\", \"500\"],\n",
        "        title = \"N° Tree\"\n",
        "    )\n",
        ")\n",
        "data = [trace]\n",
        "figure = go.Figure(data = data, layout = layout)\n",
        "CommonTools.enable_plotly_in_cell()\n",
        "plotly.offline.iplot(figure, filename=\"rbfAccuracy\") "
      ],
      "execution_count": 35,
      "outputs": [
        {
          "output_type": "display_data",
          "data": {
            "text/html": [
              "<script src=\"/static/components/requirejs/require.js\"></script>"
            ],
            "text/plain": [
              "<IPython.core.display.HTML object>"
            ]
          },
          "metadata": {
            "tags": []
          }
        },
        {
          "output_type": "display_data",
          "data": {
            "text/vnd.plotly.v1+html": "<script type=\"text/javascript\">window.PlotlyConfig = {MathJaxConfig: 'local'};</script><script type=\"text/javascript\">if (window.MathJax) {MathJax.Hub.Config({SVG: {font: \"STIX-Web\"}});}</script><script>requirejs.config({paths: { 'plotly': ['https://cdn.plot.ly/plotly-latest.min']},});if(!window._Plotly) {require(['plotly'],function(plotly) {window._Plotly=plotly;});}</script>",
            "text/html": [
              "<script type=\"text/javascript\">window.PlotlyConfig = {MathJaxConfig: 'local'};</script><script type=\"text/javascript\">if (window.MathJax) {MathJax.Hub.Config({SVG: {font: \"STIX-Web\"}});}</script><script>requirejs.config({paths: { 'plotly': ['https://cdn.plot.ly/plotly-latest.min']},});if(!window._Plotly) {require(['plotly'],function(plotly) {window._Plotly=plotly;});}</script>"
            ]
          },
          "metadata": {
            "tags": []
          }
        },
        {
          "output_type": "display_data",
          "data": {
            "text/vnd.plotly.v1+html": "<div id=\"0639cb2a-1997-4c4a-beaf-c9325bc33f80\" style=\"height: 525px; width: 100%;\" class=\"plotly-graph-div\"></div><script type=\"text/javascript\">require([\"plotly\"], function(Plotly) { window.PLOTLYENV=window.PLOTLYENV || {};window.PLOTLYENV.BASE_URL=\"https://plot.ly\";Plotly.newPlot(\"0639cb2a-1997-4c4a-beaf-c9325bc33f80\", [{\"colorscale\": \"Blues\", \"reversescale\": true, \"z\": [[0.9842857142857143, 0.987, 0.9891428571428571, 0.9882857142857143], [0.9864285714285714, 0.9878571428571429, 0.9885714285714285, 0.9881428571428571], [0.9854285714285714, 0.988, 0.9882857142857143, 0.9882857142857143], [0.9851428571428571, 0.9878571428571429, 0.988, 0.988], [0.9854285714285714, 0.9878571428571429, 0.9881428571428571, 0.988], [0.9852857142857143, 0.9878571428571429, 0.9878571428571429, 0.9875714285714285], [0.9851428571428571, 0.9878571428571429, 0.988, 0.988]], \"type\": \"heatmap\", \"uid\": \"a1a3f321-d06f-48ed-97be-c4faf6cb0739\"}], {\"title\": {\"text\": \"OOB error\"}, \"xaxis\": {\"tickmode\": \"array\", \"ticktext\": [\"2\", \"3\", \"4\", \"5\"], \"tickvals\": [0.0, 1.0, 2.0, 3.0, 4.0], \"title\": {\"text\": \"N\\u00b0 Features\"}}, \"yaxis\": {\"tickmode\": \"array\", \"ticktext\": [\"50\", \"100\", \"200\", \"300\", \"350\", \"400\", \"500\"], \"tickvals\": [0.0, 1.0, 2.0, 3.0, 4.0, 5.0, 6.0, 7.0], \"title\": {\"text\": \"N\\u00b0 Tree\"}}}, {\"showLink\": false, \"linkText\": \"Export to plot.ly\", \"plotlyServerURL\": \"https://plot.ly\"})});</script><script type=\"text/javascript\">window.addEventListener(\"resize\", function(){window._Plotly.Plots.resize(document.getElementById(\"0639cb2a-1997-4c4a-beaf-c9325bc33f80\"));});</script>",
            "text/html": [
              "<div id=\"0639cb2a-1997-4c4a-beaf-c9325bc33f80\" style=\"height: 525px; width: 100%;\" class=\"plotly-graph-div\"></div><script type=\"text/javascript\">require([\"plotly\"], function(Plotly) { window.PLOTLYENV=window.PLOTLYENV || {};window.PLOTLYENV.BASE_URL=\"https://plot.ly\";Plotly.newPlot(\"0639cb2a-1997-4c4a-beaf-c9325bc33f80\", [{\"colorscale\": \"Blues\", \"reversescale\": true, \"z\": [[0.9842857142857143, 0.987, 0.9891428571428571, 0.9882857142857143], [0.9864285714285714, 0.9878571428571429, 0.9885714285714285, 0.9881428571428571], [0.9854285714285714, 0.988, 0.9882857142857143, 0.9882857142857143], [0.9851428571428571, 0.9878571428571429, 0.988, 0.988], [0.9854285714285714, 0.9878571428571429, 0.9881428571428571, 0.988], [0.9852857142857143, 0.9878571428571429, 0.9878571428571429, 0.9875714285714285], [0.9851428571428571, 0.9878571428571429, 0.988, 0.988]], \"type\": \"heatmap\", \"uid\": \"a1a3f321-d06f-48ed-97be-c4faf6cb0739\"}], {\"title\": {\"text\": \"OOB error\"}, \"xaxis\": {\"tickmode\": \"array\", \"ticktext\": [\"2\", \"3\", \"4\", \"5\"], \"tickvals\": [0.0, 1.0, 2.0, 3.0, 4.0], \"title\": {\"text\": \"N\\u00b0 Features\"}}, \"yaxis\": {\"tickmode\": \"array\", \"ticktext\": [\"50\", \"100\", \"200\", \"300\", \"350\", \"400\", \"500\"], \"tickvals\": [0.0, 1.0, 2.0, 3.0, 4.0, 5.0, 6.0, 7.0], \"title\": {\"text\": \"N\\u00b0 Tree\"}}}, {\"showLink\": false, \"linkText\": \"Export to plot.ly\", \"plotlyServerURL\": \"https://plot.ly\"})});</script><script type=\"text/javascript\">window.addEventListener(\"resize\", function(){window._Plotly.Plots.resize(document.getElementById(\"0639cb2a-1997-4c4a-beaf-c9325bc33f80\"));});</script>"
            ],
            "application/vnd.plotly.v1+json": {
              "layout": {
                "yaxis": {
                  "ticktext": [
                    "50",
                    "100",
                    "200",
                    "300",
                    "350",
                    "400",
                    "500"
                  ],
                  "title": {
                    "text": "N° Tree"
                  },
                  "tickmode": "array",
                  "tickvals": [
                    0,
                    1,
                    2,
                    3,
                    4,
                    5,
                    6,
                    7
                  ]
                },
                "xaxis": {
                  "ticktext": [
                    "2",
                    "3",
                    "4",
                    "5"
                  ],
                  "title": {
                    "text": "N° Features"
                  },
                  "tickmode": "array",
                  "tickvals": [
                    0,
                    1,
                    2,
                    3,
                    4
                  ]
                },
                "title": {
                  "text": "OOB error"
                }
              },
              "config": {
                "plotlyServerURL": "https://plot.ly",
                "linkText": "Export to plot.ly",
                "showLink": false
              },
              "data": [
                {
                  "reversescale": true,
                  "z": [
                    [
                      0.9842857142857143,
                      0.987,
                      0.9891428571428571,
                      0.9882857142857143
                    ],
                    [
                      0.9864285714285714,
                      0.9878571428571429,
                      0.9885714285714285,
                      0.9881428571428571
                    ],
                    [
                      0.9854285714285714,
                      0.988,
                      0.9882857142857143,
                      0.9882857142857143
                    ],
                    [
                      0.9851428571428571,
                      0.9878571428571429,
                      0.988,
                      0.988
                    ],
                    [
                      0.9854285714285714,
                      0.9878571428571429,
                      0.9881428571428571,
                      0.988
                    ],
                    [
                      0.9852857142857143,
                      0.9878571428571429,
                      0.9878571428571429,
                      0.9875714285714285
                    ],
                    [
                      0.9851428571428571,
                      0.9878571428571429,
                      0.988,
                      0.988
                    ]
                  ],
                  "type": "heatmap",
                  "uid": "a1a3f321-d06f-48ed-97be-c4faf6cb0739",
                  "colorscale": "Blues"
                }
              ]
            }
          },
          "metadata": {
            "tags": []
          }
        }
      ]
    },
    {
      "cell_type": "code",
      "metadata": {
        "id": "iSxiLVz8a8Cf",
        "colab_type": "code",
        "colab": {}
      },
      "source": [
        "#fare la precisione"
      ],
      "execution_count": 0,
      "outputs": []
    },
    {
      "cell_type": "code",
      "metadata": {
        "id": "nMZHirmFQtxP",
        "colab_type": "code",
        "outputId": "cb37de9f-fd1f-4696-dffd-c0bf5504d748",
        "colab": {
          "base_uri": "https://localhost:8080/",
          "height": 542
        }
      },
      "source": [
        "#most relevant\n",
        "\n",
        "x_orig, y_orig = CommonTools.get_most_relevant_dataset()\n",
        "\n",
        "trainSet, test, labelTrainSet, labelTest = train_test_split(x_orig, y_orig, train_size = 0.7, test_size = 0.3, random_state = 40)\n",
        "\n",
        "numberTrees = [50, 100, 200, 300, 350, 400, 500]\n",
        "numberFeatures = [2, 3, 4, 5]\n",
        "accuracy = np.zeros(shape = (len(numberTrees), len(numberFeatures)))\n",
        "\n",
        "for i in range(len(numberTrees)):\n",
        "  for j in range(len(numberFeatures)):\n",
        "    RFC = RandomForestClassifier(n_estimators = numberTrees[i], random_state=0, oob_score = True,\n",
        "                                max_features = numberFeatures[j], bootstrap = True)\n",
        "    RFC.fit(trainSet, labelTrainSet)\n",
        "    accuracy[i][j] = RFC.oob_score_\n",
        "    \n",
        "trace = go.Heatmap(\n",
        "    z = accuracy,\n",
        "    colorscale = \"Blues\",\n",
        "    reversescale = True\n",
        ")\n",
        "layout = go.Layout(\n",
        "    title = \"OOB error\",\n",
        "    xaxis = dict(\n",
        "        tickmode = \"array\",\n",
        "        tickvals = np.linspace(0, len(numberFeatures), num = len(numberFeatures) + 1),       \n",
        "        ticktext = [\"2\", \"3\", \"4\", \"5\"],\n",
        "        title = \"N° Features\"      \n",
        "    ),\n",
        "    yaxis = dict(\n",
        "        tickmode = \"array\",\n",
        "        tickvals = np.linspace(0, len(numberTrees), num = len(numberTrees) + 1),\n",
        "        ticktext = [\"50\", \"100\", \"200\", \"300\", \"350\", \"400\", \"500\"],\n",
        "        title = \"N° Tree\"\n",
        "    )\n",
        ")\n",
        "data = [trace]\n",
        "figure = go.Figure(data = data, layout = layout)\n",
        "CommonTools.enable_plotly_in_cell()\n",
        "plotly.offline.iplot(figure, filename=\"rbfAccuracy\") "
      ],
      "execution_count": 34,
      "outputs": [
        {
          "output_type": "display_data",
          "data": {
            "text/html": [
              "<script src=\"/static/components/requirejs/require.js\"></script>"
            ],
            "text/plain": [
              "<IPython.core.display.HTML object>"
            ]
          },
          "metadata": {
            "tags": []
          }
        },
        {
          "output_type": "display_data",
          "data": {
            "text/vnd.plotly.v1+html": "<script type=\"text/javascript\">window.PlotlyConfig = {MathJaxConfig: 'local'};</script><script type=\"text/javascript\">if (window.MathJax) {MathJax.Hub.Config({SVG: {font: \"STIX-Web\"}});}</script><script>requirejs.config({paths: { 'plotly': ['https://cdn.plot.ly/plotly-latest.min']},});if(!window._Plotly) {require(['plotly'],function(plotly) {window._Plotly=plotly;});}</script>",
            "text/html": [
              "<script type=\"text/javascript\">window.PlotlyConfig = {MathJaxConfig: 'local'};</script><script type=\"text/javascript\">if (window.MathJax) {MathJax.Hub.Config({SVG: {font: \"STIX-Web\"}});}</script><script>requirejs.config({paths: { 'plotly': ['https://cdn.plot.ly/plotly-latest.min']},});if(!window._Plotly) {require(['plotly'],function(plotly) {window._Plotly=plotly;});}</script>"
            ]
          },
          "metadata": {
            "tags": []
          }
        },
        {
          "output_type": "display_data",
          "data": {
            "text/vnd.plotly.v1+html": "<div id=\"23d6b06c-4031-404f-b010-c52e495ef308\" style=\"height: 525px; width: 100%;\" class=\"plotly-graph-div\"></div><script type=\"text/javascript\">require([\"plotly\"], function(Plotly) { window.PLOTLYENV=window.PLOTLYENV || {};window.PLOTLYENV.BASE_URL=\"https://plot.ly\";Plotly.newPlot(\"23d6b06c-4031-404f-b010-c52e495ef308\", [{\"colorscale\": \"Blues\", \"reversescale\": true, \"z\": [[0.9871428571428571, 0.988, 0.989, 0.9897142857142858], [0.9882857142857143, 0.9884285714285714, 0.9888571428571429, 0.99], [0.9881428571428571, 0.9885714285714285, 0.9888571428571429, 0.9891428571428571], [0.9882857142857143, 0.9887142857142858, 0.9887142857142858, 0.989], [0.9881428571428571, 0.9887142857142858, 0.9887142857142858, 0.9891428571428571], [0.988, 0.9884285714285714, 0.9888571428571429, 0.989], [0.9882857142857143, 0.9882857142857143, 0.989, 0.989]], \"type\": \"heatmap\", \"uid\": \"6da49341-ffa9-43e4-98ab-0fd7feb85da7\"}], {\"title\": {\"text\": \"OOB error\"}, \"xaxis\": {\"tickmode\": \"array\", \"ticktext\": [\"2\", \"3\", \"4\", \"5\"], \"tickvals\": [0.0, 1.0, 2.0, 3.0, 4.0], \"title\": {\"text\": \"N\\u00b0 Features\"}}, \"yaxis\": {\"tickmode\": \"array\", \"ticktext\": [\"50\", \"100\", \"200\", \"300\", \"350\", \"400\", \"500\"], \"tickvals\": [0.0, 1.0, 2.0, 3.0, 4.0, 5.0, 6.0, 7.0], \"title\": {\"text\": \"N\\u00b0 Tree\"}}}, {\"showLink\": false, \"linkText\": \"Export to plot.ly\", \"plotlyServerURL\": \"https://plot.ly\"})});</script><script type=\"text/javascript\">window.addEventListener(\"resize\", function(){window._Plotly.Plots.resize(document.getElementById(\"23d6b06c-4031-404f-b010-c52e495ef308\"));});</script>",
            "text/html": [
              "<div id=\"23d6b06c-4031-404f-b010-c52e495ef308\" style=\"height: 525px; width: 100%;\" class=\"plotly-graph-div\"></div><script type=\"text/javascript\">require([\"plotly\"], function(Plotly) { window.PLOTLYENV=window.PLOTLYENV || {};window.PLOTLYENV.BASE_URL=\"https://plot.ly\";Plotly.newPlot(\"23d6b06c-4031-404f-b010-c52e495ef308\", [{\"colorscale\": \"Blues\", \"reversescale\": true, \"z\": [[0.9871428571428571, 0.988, 0.989, 0.9897142857142858], [0.9882857142857143, 0.9884285714285714, 0.9888571428571429, 0.99], [0.9881428571428571, 0.9885714285714285, 0.9888571428571429, 0.9891428571428571], [0.9882857142857143, 0.9887142857142858, 0.9887142857142858, 0.989], [0.9881428571428571, 0.9887142857142858, 0.9887142857142858, 0.9891428571428571], [0.988, 0.9884285714285714, 0.9888571428571429, 0.989], [0.9882857142857143, 0.9882857142857143, 0.989, 0.989]], \"type\": \"heatmap\", \"uid\": \"6da49341-ffa9-43e4-98ab-0fd7feb85da7\"}], {\"title\": {\"text\": \"OOB error\"}, \"xaxis\": {\"tickmode\": \"array\", \"ticktext\": [\"2\", \"3\", \"4\", \"5\"], \"tickvals\": [0.0, 1.0, 2.0, 3.0, 4.0], \"title\": {\"text\": \"N\\u00b0 Features\"}}, \"yaxis\": {\"tickmode\": \"array\", \"ticktext\": [\"50\", \"100\", \"200\", \"300\", \"350\", \"400\", \"500\"], \"tickvals\": [0.0, 1.0, 2.0, 3.0, 4.0, 5.0, 6.0, 7.0], \"title\": {\"text\": \"N\\u00b0 Tree\"}}}, {\"showLink\": false, \"linkText\": \"Export to plot.ly\", \"plotlyServerURL\": \"https://plot.ly\"})});</script><script type=\"text/javascript\">window.addEventListener(\"resize\", function(){window._Plotly.Plots.resize(document.getElementById(\"23d6b06c-4031-404f-b010-c52e495ef308\"));});</script>"
            ],
            "application/vnd.plotly.v1+json": {
              "layout": {
                "yaxis": {
                  "ticktext": [
                    "50",
                    "100",
                    "200",
                    "300",
                    "350",
                    "400",
                    "500"
                  ],
                  "title": {
                    "text": "N° Tree"
                  },
                  "tickmode": "array",
                  "tickvals": [
                    0,
                    1,
                    2,
                    3,
                    4,
                    5,
                    6,
                    7
                  ]
                },
                "xaxis": {
                  "ticktext": [
                    "2",
                    "3",
                    "4",
                    "5"
                  ],
                  "title": {
                    "text": "N° Features"
                  },
                  "tickmode": "array",
                  "tickvals": [
                    0,
                    1,
                    2,
                    3,
                    4
                  ]
                },
                "title": {
                  "text": "OOB error"
                }
              },
              "config": {
                "plotlyServerURL": "https://plot.ly",
                "linkText": "Export to plot.ly",
                "showLink": false
              },
              "data": [
                {
                  "reversescale": true,
                  "z": [
                    [
                      0.9871428571428571,
                      0.988,
                      0.989,
                      0.9897142857142858
                    ],
                    [
                      0.9882857142857143,
                      0.9884285714285714,
                      0.9888571428571429,
                      0.99
                    ],
                    [
                      0.9881428571428571,
                      0.9885714285714285,
                      0.9888571428571429,
                      0.9891428571428571
                    ],
                    [
                      0.9882857142857143,
                      0.9887142857142858,
                      0.9887142857142858,
                      0.989
                    ],
                    [
                      0.9881428571428571,
                      0.9887142857142858,
                      0.9887142857142858,
                      0.9891428571428571
                    ],
                    [
                      0.988,
                      0.9884285714285714,
                      0.9888571428571429,
                      0.989
                    ],
                    [
                      0.9882857142857143,
                      0.9882857142857143,
                      0.989,
                      0.989
                    ]
                  ],
                  "type": "heatmap",
                  "uid": "6da49341-ffa9-43e4-98ab-0fd7feb85da7",
                  "colorscale": "Blues"
                }
              ]
            }
          },
          "metadata": {
            "tags": []
          }
        }
      ]
    },
    {
      "cell_type": "code",
      "metadata": {
        "id": "HHUAyEMGkYtL",
        "colab_type": "code",
        "colab": {
          "base_uri": "https://localhost:8080/",
          "height": 542
        },
        "outputId": "d6e3df53-c122-4451-cda6-f3c9af2c769d"
      },
      "source": [
        "#most meaningful analysis\n",
        "\n",
        "x_orig, y_orig = CommonTools.get_meaningful_dataset()\n",
        "\n",
        "trainSet, test, labelTrainSet, labelTest = train_test_split(x_orig, y_orig, train_size = 0.7, test_size = 0.3, random_state = 40)\n",
        "\n",
        "numberTrees = [50, 100, 200, 300, 350, 400, 500]\n",
        "numberFeatures = [2, 3, 4, 5]\n",
        "accuracy = np.zeros(shape = (len(numberTrees), len(numberFeatures)))\n",
        "\n",
        "for i in range(len(numberTrees)):\n",
        "  for j in range(len(numberFeatures)):\n",
        "    RFC = RandomForestClassifier(n_estimators = numberTrees[i], random_state=0, oob_score = True,\n",
        "                                max_features = numberFeatures[j], bootstrap = True)\n",
        "    RFC.fit(trainSet, labelTrainSet)\n",
        "    accuracy[i][j] = RFC.oob_score_\n",
        "    \n",
        "trace = go.Heatmap(\n",
        "    z = accuracy,\n",
        "    colorscale = \"Blues\",\n",
        "    reversescale = True\n",
        ")\n",
        "layout = go.Layout(\n",
        "    title = \"OOB error\",\n",
        "    xaxis = dict(\n",
        "        tickmode = \"array\",\n",
        "        tickvals = np.linspace(0, len(numberFeatures), num = len(numberFeatures) + 1),       \n",
        "        ticktext = [\"2\", \"3\", \"4\", \"5\"],\n",
        "        title = \"N° Features\"      \n",
        "    ),\n",
        "    yaxis = dict(\n",
        "        tickmode = \"array\",\n",
        "        tickvals = np.linspace(0, len(numberTrees), num = len(numberTrees) + 1),\n",
        "        ticktext = [\"50\", \"100\", \"200\", \"300\", \"350\", \"400\", \"500\"],\n",
        "        title = \"N° Tree\"\n",
        "    )\n",
        ")\n",
        "data = [trace]\n",
        "figure = go.Figure(data = data, layout = layout)\n",
        "CommonTools.enable_plotly_in_cell()\n",
        "plotly.offline.iplot(figure, filename=\"rbfAccuracy\") "
      ],
      "execution_count": 36,
      "outputs": [
        {
          "output_type": "display_data",
          "data": {
            "text/html": [
              "<script src=\"/static/components/requirejs/require.js\"></script>"
            ],
            "text/plain": [
              "<IPython.core.display.HTML object>"
            ]
          },
          "metadata": {
            "tags": []
          }
        },
        {
          "output_type": "display_data",
          "data": {
            "text/vnd.plotly.v1+html": "<script type=\"text/javascript\">window.PlotlyConfig = {MathJaxConfig: 'local'};</script><script type=\"text/javascript\">if (window.MathJax) {MathJax.Hub.Config({SVG: {font: \"STIX-Web\"}});}</script><script>requirejs.config({paths: { 'plotly': ['https://cdn.plot.ly/plotly-latest.min']},});if(!window._Plotly) {require(['plotly'],function(plotly) {window._Plotly=plotly;});}</script>",
            "text/html": [
              "<script type=\"text/javascript\">window.PlotlyConfig = {MathJaxConfig: 'local'};</script><script type=\"text/javascript\">if (window.MathJax) {MathJax.Hub.Config({SVG: {font: \"STIX-Web\"}});}</script><script>requirejs.config({paths: { 'plotly': ['https://cdn.plot.ly/plotly-latest.min']},});if(!window._Plotly) {require(['plotly'],function(plotly) {window._Plotly=plotly;});}</script>"
            ]
          },
          "metadata": {
            "tags": []
          }
        },
        {
          "output_type": "display_data",
          "data": {
            "text/vnd.plotly.v1+html": "<div id=\"170fda6e-6d58-4bc0-9f11-01722ab2365c\" style=\"height: 525px; width: 100%;\" class=\"plotly-graph-div\"></div><script type=\"text/javascript\">require([\"plotly\"], function(Plotly) { window.PLOTLYENV=window.PLOTLYENV || {};window.PLOTLYENV.BASE_URL=\"https://plot.ly\";Plotly.newPlot(\"170fda6e-6d58-4bc0-9f11-01722ab2365c\", [{\"colorscale\": \"Blues\", \"reversescale\": true, \"z\": [[0.989, 0.9897142857142858, 0.9902857142857143, 0.9914285714285714], [0.9888571428571429, 0.9901428571428571, 0.9901428571428571, 0.9917142857142857], [0.989, 0.99, 0.9905714285714285, 0.9914285714285714], [0.9891428571428571, 0.9901428571428571, 0.9907142857142858, 0.9912857142857143], [0.989, 0.99, 0.9905714285714285, 0.9915714285714285], [0.9891428571428571, 0.9902857142857143, 0.991, 0.9918571428571429], [0.989, 0.9902857142857143, 0.9914285714285714, 0.9915714285714285]], \"type\": \"heatmap\", \"uid\": \"70a0391d-6c63-4eeb-8f03-0a8fd871f46b\"}], {\"title\": {\"text\": \"OOB error\"}, \"xaxis\": {\"tickmode\": \"array\", \"ticktext\": [\"2\", \"3\", \"4\", \"5\"], \"tickvals\": [0.0, 1.0, 2.0, 3.0, 4.0], \"title\": {\"text\": \"N\\u00b0 Features\"}}, \"yaxis\": {\"tickmode\": \"array\", \"ticktext\": [\"50\", \"100\", \"200\", \"300\", \"350\", \"400\", \"500\"], \"tickvals\": [0.0, 1.0, 2.0, 3.0, 4.0, 5.0, 6.0, 7.0], \"title\": {\"text\": \"N\\u00b0 Tree\"}}}, {\"showLink\": false, \"linkText\": \"Export to plot.ly\", \"plotlyServerURL\": \"https://plot.ly\"})});</script><script type=\"text/javascript\">window.addEventListener(\"resize\", function(){window._Plotly.Plots.resize(document.getElementById(\"170fda6e-6d58-4bc0-9f11-01722ab2365c\"));});</script>",
            "text/html": [
              "<div id=\"170fda6e-6d58-4bc0-9f11-01722ab2365c\" style=\"height: 525px; width: 100%;\" class=\"plotly-graph-div\"></div><script type=\"text/javascript\">require([\"plotly\"], function(Plotly) { window.PLOTLYENV=window.PLOTLYENV || {};window.PLOTLYENV.BASE_URL=\"https://plot.ly\";Plotly.newPlot(\"170fda6e-6d58-4bc0-9f11-01722ab2365c\", [{\"colorscale\": \"Blues\", \"reversescale\": true, \"z\": [[0.989, 0.9897142857142858, 0.9902857142857143, 0.9914285714285714], [0.9888571428571429, 0.9901428571428571, 0.9901428571428571, 0.9917142857142857], [0.989, 0.99, 0.9905714285714285, 0.9914285714285714], [0.9891428571428571, 0.9901428571428571, 0.9907142857142858, 0.9912857142857143], [0.989, 0.99, 0.9905714285714285, 0.9915714285714285], [0.9891428571428571, 0.9902857142857143, 0.991, 0.9918571428571429], [0.989, 0.9902857142857143, 0.9914285714285714, 0.9915714285714285]], \"type\": \"heatmap\", \"uid\": \"70a0391d-6c63-4eeb-8f03-0a8fd871f46b\"}], {\"title\": {\"text\": \"OOB error\"}, \"xaxis\": {\"tickmode\": \"array\", \"ticktext\": [\"2\", \"3\", \"4\", \"5\"], \"tickvals\": [0.0, 1.0, 2.0, 3.0, 4.0], \"title\": {\"text\": \"N\\u00b0 Features\"}}, \"yaxis\": {\"tickmode\": \"array\", \"ticktext\": [\"50\", \"100\", \"200\", \"300\", \"350\", \"400\", \"500\"], \"tickvals\": [0.0, 1.0, 2.0, 3.0, 4.0, 5.0, 6.0, 7.0], \"title\": {\"text\": \"N\\u00b0 Tree\"}}}, {\"showLink\": false, \"linkText\": \"Export to plot.ly\", \"plotlyServerURL\": \"https://plot.ly\"})});</script><script type=\"text/javascript\">window.addEventListener(\"resize\", function(){window._Plotly.Plots.resize(document.getElementById(\"170fda6e-6d58-4bc0-9f11-01722ab2365c\"));});</script>"
            ],
            "application/vnd.plotly.v1+json": {
              "layout": {
                "yaxis": {
                  "ticktext": [
                    "50",
                    "100",
                    "200",
                    "300",
                    "350",
                    "400",
                    "500"
                  ],
                  "title": {
                    "text": "N° Tree"
                  },
                  "tickmode": "array",
                  "tickvals": [
                    0,
                    1,
                    2,
                    3,
                    4,
                    5,
                    6,
                    7
                  ]
                },
                "xaxis": {
                  "ticktext": [
                    "2",
                    "3",
                    "4",
                    "5"
                  ],
                  "title": {
                    "text": "N° Features"
                  },
                  "tickmode": "array",
                  "tickvals": [
                    0,
                    1,
                    2,
                    3,
                    4
                  ]
                },
                "title": {
                  "text": "OOB error"
                }
              },
              "config": {
                "plotlyServerURL": "https://plot.ly",
                "linkText": "Export to plot.ly",
                "showLink": false
              },
              "data": [
                {
                  "reversescale": true,
                  "z": [
                    [
                      0.989,
                      0.9897142857142858,
                      0.9902857142857143,
                      0.9914285714285714
                    ],
                    [
                      0.9888571428571429,
                      0.9901428571428571,
                      0.9901428571428571,
                      0.9917142857142857
                    ],
                    [
                      0.989,
                      0.99,
                      0.9905714285714285,
                      0.9914285714285714
                    ],
                    [
                      0.9891428571428571,
                      0.9901428571428571,
                      0.9907142857142858,
                      0.9912857142857143
                    ],
                    [
                      0.989,
                      0.99,
                      0.9905714285714285,
                      0.9915714285714285
                    ],
                    [
                      0.9891428571428571,
                      0.9902857142857143,
                      0.991,
                      0.9918571428571429
                    ],
                    [
                      0.989,
                      0.9902857142857143,
                      0.9914285714285714,
                      0.9915714285714285
                    ]
                  ],
                  "type": "heatmap",
                  "uid": "70a0391d-6c63-4eeb-8f03-0a8fd871f46b",
                  "colorscale": "Blues"
                }
              ]
            }
          },
          "metadata": {
            "tags": []
          }
        }
      ]
    },
    {
      "cell_type": "code",
      "metadata": {
        "id": "Qz72SYEPlvH6",
        "colab_type": "code",
        "colab": {
          "base_uri": "https://localhost:8080/",
          "height": 542
        },
        "outputId": "623763cf-cc17-4d7e-c9ce-cc9a70c13a3b"
      },
      "source": [
        "#most meaningful analysis\n",
        "\n",
        "x_orig, y_orig = CommonTools.get_pca_dataset()\n",
        "\n",
        "trainSet, test, labelTrainSet, labelTest = train_test_split(x_orig, y_orig, train_size = 0.7, test_size = 0.3, random_state = 40)\n",
        "\n",
        "numberTrees = [50, 100, 200, 300, 350, 400, 500]\n",
        "numberFeatures = [2, 3, 4, 5]\n",
        "accuracy = np.zeros(shape = (len(numberTrees), len(numberFeatures)))\n",
        "\n",
        "for i in range(len(numberTrees)):\n",
        "  for j in range(len(numberFeatures)):\n",
        "    RFC = RandomForestClassifier(n_estimators = numberTrees[i], random_state=0, oob_score = True,\n",
        "                                max_features = numberFeatures[j], bootstrap = True)\n",
        "    RFC.fit(trainSet, labelTrainSet)\n",
        "    accuracy[i][j] = RFC.oob_score_\n",
        "    \n",
        "trace = go.Heatmap(\n",
        "    z = accuracy,\n",
        "    colorscale = \"Blues\",\n",
        "    reversescale = True\n",
        ")\n",
        "layout = go.Layout(\n",
        "    title = \"OOB error\",\n",
        "    xaxis = dict(\n",
        "        tickmode = \"array\",\n",
        "        tickvals = np.linspace(0, len(numberFeatures), num = len(numberFeatures) + 1),       \n",
        "        ticktext = [\"2\", \"3\", \"4\", \"5\"],\n",
        "        title = \"N° Features\"      \n",
        "    ),\n",
        "    yaxis = dict(\n",
        "        tickmode = \"array\",\n",
        "        tickvals = np.linspace(0, len(numberTrees), num = len(numberTrees) + 1),\n",
        "        ticktext = [\"50\", \"100\", \"200\", \"300\", \"350\", \"400\", \"500\"],\n",
        "        title = \"N° Tree\"\n",
        "    )\n",
        ")\n",
        "data = [trace]\n",
        "figure = go.Figure(data = data, layout = layout)\n",
        "CommonTools.enable_plotly_in_cell()\n",
        "plotly.offline.iplot(figure, filename=\"rbfAccuracy\") "
      ],
      "execution_count": 37,
      "outputs": [
        {
          "output_type": "display_data",
          "data": {
            "text/html": [
              "<script src=\"/static/components/requirejs/require.js\"></script>"
            ],
            "text/plain": [
              "<IPython.core.display.HTML object>"
            ]
          },
          "metadata": {
            "tags": []
          }
        },
        {
          "output_type": "display_data",
          "data": {
            "text/vnd.plotly.v1+html": "<script type=\"text/javascript\">window.PlotlyConfig = {MathJaxConfig: 'local'};</script><script type=\"text/javascript\">if (window.MathJax) {MathJax.Hub.Config({SVG: {font: \"STIX-Web\"}});}</script><script>requirejs.config({paths: { 'plotly': ['https://cdn.plot.ly/plotly-latest.min']},});if(!window._Plotly) {require(['plotly'],function(plotly) {window._Plotly=plotly;});}</script>",
            "text/html": [
              "<script type=\"text/javascript\">window.PlotlyConfig = {MathJaxConfig: 'local'};</script><script type=\"text/javascript\">if (window.MathJax) {MathJax.Hub.Config({SVG: {font: \"STIX-Web\"}});}</script><script>requirejs.config({paths: { 'plotly': ['https://cdn.plot.ly/plotly-latest.min']},});if(!window._Plotly) {require(['plotly'],function(plotly) {window._Plotly=plotly;});}</script>"
            ]
          },
          "metadata": {
            "tags": []
          }
        },
        {
          "output_type": "display_data",
          "data": {
            "text/vnd.plotly.v1+html": "<div id=\"81032d81-35cd-4c7a-b85e-d59cf88d9e24\" style=\"height: 525px; width: 100%;\" class=\"plotly-graph-div\"></div><script type=\"text/javascript\">require([\"plotly\"], function(Plotly) { window.PLOTLYENV=window.PLOTLYENV || {};window.PLOTLYENV.BASE_URL=\"https://plot.ly\";Plotly.newPlot(\"81032d81-35cd-4c7a-b85e-d59cf88d9e24\", [{\"colorscale\": \"Blues\", \"reversescale\": true, \"z\": [[0.8531428571428571, 0.8547142857142858, 0.8574285714285714, 0.856], [0.8575714285714285, 0.8588571428571429, 0.8551428571428571, 0.857], [0.8587142857142858, 0.859, 0.856, 0.8552857142857143], [0.8581428571428571, 0.8605714285714285, 0.8567142857142858, 0.8571428571428571], [0.8577142857142858, 0.8612857142857143, 0.8564285714285714, 0.8567142857142858], [0.8575714285714285, 0.8612857142857143, 0.857, 0.8574285714285714], [0.8584285714285714, 0.8607142857142858, 0.8554285714285714, 0.8572857142857143]], \"type\": \"heatmap\", \"uid\": \"7b664c5c-4a83-44a1-b733-d7fc6ff5fba3\"}], {\"title\": {\"text\": \"OOB error\"}, \"xaxis\": {\"tickmode\": \"array\", \"ticktext\": [\"2\", \"3\", \"4\", \"5\"], \"tickvals\": [0.0, 1.0, 2.0, 3.0, 4.0], \"title\": {\"text\": \"N\\u00b0 Features\"}}, \"yaxis\": {\"tickmode\": \"array\", \"ticktext\": [\"50\", \"100\", \"200\", \"300\", \"350\", \"400\", \"500\"], \"tickvals\": [0.0, 1.0, 2.0, 3.0, 4.0, 5.0, 6.0, 7.0], \"title\": {\"text\": \"N\\u00b0 Tree\"}}}, {\"showLink\": false, \"linkText\": \"Export to plot.ly\", \"plotlyServerURL\": \"https://plot.ly\"})});</script><script type=\"text/javascript\">window.addEventListener(\"resize\", function(){window._Plotly.Plots.resize(document.getElementById(\"81032d81-35cd-4c7a-b85e-d59cf88d9e24\"));});</script>",
            "text/html": [
              "<div id=\"81032d81-35cd-4c7a-b85e-d59cf88d9e24\" style=\"height: 525px; width: 100%;\" class=\"plotly-graph-div\"></div><script type=\"text/javascript\">require([\"plotly\"], function(Plotly) { window.PLOTLYENV=window.PLOTLYENV || {};window.PLOTLYENV.BASE_URL=\"https://plot.ly\";Plotly.newPlot(\"81032d81-35cd-4c7a-b85e-d59cf88d9e24\", [{\"colorscale\": \"Blues\", \"reversescale\": true, \"z\": [[0.8531428571428571, 0.8547142857142858, 0.8574285714285714, 0.856], [0.8575714285714285, 0.8588571428571429, 0.8551428571428571, 0.857], [0.8587142857142858, 0.859, 0.856, 0.8552857142857143], [0.8581428571428571, 0.8605714285714285, 0.8567142857142858, 0.8571428571428571], [0.8577142857142858, 0.8612857142857143, 0.8564285714285714, 0.8567142857142858], [0.8575714285714285, 0.8612857142857143, 0.857, 0.8574285714285714], [0.8584285714285714, 0.8607142857142858, 0.8554285714285714, 0.8572857142857143]], \"type\": \"heatmap\", \"uid\": \"7b664c5c-4a83-44a1-b733-d7fc6ff5fba3\"}], {\"title\": {\"text\": \"OOB error\"}, \"xaxis\": {\"tickmode\": \"array\", \"ticktext\": [\"2\", \"3\", \"4\", \"5\"], \"tickvals\": [0.0, 1.0, 2.0, 3.0, 4.0], \"title\": {\"text\": \"N\\u00b0 Features\"}}, \"yaxis\": {\"tickmode\": \"array\", \"ticktext\": [\"50\", \"100\", \"200\", \"300\", \"350\", \"400\", \"500\"], \"tickvals\": [0.0, 1.0, 2.0, 3.0, 4.0, 5.0, 6.0, 7.0], \"title\": {\"text\": \"N\\u00b0 Tree\"}}}, {\"showLink\": false, \"linkText\": \"Export to plot.ly\", \"plotlyServerURL\": \"https://plot.ly\"})});</script><script type=\"text/javascript\">window.addEventListener(\"resize\", function(){window._Plotly.Plots.resize(document.getElementById(\"81032d81-35cd-4c7a-b85e-d59cf88d9e24\"));});</script>"
            ],
            "application/vnd.plotly.v1+json": {
              "layout": {
                "yaxis": {
                  "ticktext": [
                    "50",
                    "100",
                    "200",
                    "300",
                    "350",
                    "400",
                    "500"
                  ],
                  "title": {
                    "text": "N° Tree"
                  },
                  "tickmode": "array",
                  "tickvals": [
                    0,
                    1,
                    2,
                    3,
                    4,
                    5,
                    6,
                    7
                  ]
                },
                "xaxis": {
                  "ticktext": [
                    "2",
                    "3",
                    "4",
                    "5"
                  ],
                  "title": {
                    "text": "N° Features"
                  },
                  "tickmode": "array",
                  "tickvals": [
                    0,
                    1,
                    2,
                    3,
                    4
                  ]
                },
                "title": {
                  "text": "OOB error"
                }
              },
              "config": {
                "plotlyServerURL": "https://plot.ly",
                "linkText": "Export to plot.ly",
                "showLink": false
              },
              "data": [
                {
                  "reversescale": true,
                  "z": [
                    [
                      0.8531428571428571,
                      0.8547142857142858,
                      0.8574285714285714,
                      0.856
                    ],
                    [
                      0.8575714285714285,
                      0.8588571428571429,
                      0.8551428571428571,
                      0.857
                    ],
                    [
                      0.8587142857142858,
                      0.859,
                      0.856,
                      0.8552857142857143
                    ],
                    [
                      0.8581428571428571,
                      0.8605714285714285,
                      0.8567142857142858,
                      0.8571428571428571
                    ],
                    [
                      0.8577142857142858,
                      0.8612857142857143,
                      0.8564285714285714,
                      0.8567142857142858
                    ],
                    [
                      0.8575714285714285,
                      0.8612857142857143,
                      0.857,
                      0.8574285714285714
                    ],
                    [
                      0.8584285714285714,
                      0.8607142857142858,
                      0.8554285714285714,
                      0.8572857142857143
                    ]
                  ],
                  "type": "heatmap",
                  "uid": "7b664c5c-4a83-44a1-b733-d7fc6ff5fba3",
                  "colorscale": "Blues"
                }
              ]
            }
          },
          "metadata": {
            "tags": []
          }
        }
      ]
    }
  ]
}