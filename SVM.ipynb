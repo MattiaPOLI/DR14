{
  "nbformat": 4,
  "nbformat_minor": 0,
  "metadata": {
    "colab": {
      "name": "Untitled1.ipynb",
      "version": "0.3.2",
      "provenance": [],
      "collapsed_sections": [],
      "include_colab_link": true
    },
    "kernelspec": {
      "name": "python3",
      "display_name": "Python 3"
    }
  },
  "cells": [
    {
      "cell_type": "markdown",
      "metadata": {
        "id": "view-in-github",
        "colab_type": "text"
      },
      "source": [
        "<a href=\"https://colab.research.google.com/github/MattiaPOLI/DR14/blob/nico/SVM.ipynb\" target=\"_parent\"><img src=\"https://colab.research.google.com/assets/colab-badge.svg\" alt=\"Open In Colab\"/></a>"
      ]
    },
    {
      "metadata": {
        "id": "pTK6Sw3Pncvn",
        "colab_type": "code",
        "outputId": "6521438a-5bd0-4337-f9be-3f42e1b9fb14",
        "colab": {
          "resources": {
            "http://localhost:8080/nbextensions/google.colab/files.js": {
              "data": "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",
              "ok": true,
              "headers": [
                [
                  "content-type",
                  "application/javascript"
                ]
              ],
              "status": 200,
              "status_text": ""
            }
          },
          "base_uri": "https://localhost:8080/",
          "height": 74
        }
      },
      "cell_type": "code",
      "source": [
        "# ~-----enable Colab to load CSV-----\n",
        "# import useful libraries\n",
        "from google.colab import files\n",
        "\n",
        "# specify the file to load\n",
        "uploaded = files.upload()"
      ],
      "execution_count": 0,
      "outputs": [
        {
          "output_type": "display_data",
          "data": {
            "text/html": [
              "\n",
              "     <input type=\"file\" id=\"files-0d4bdd0f-5b60-456f-8d31-ff10a00ee472\" name=\"files[]\" multiple disabled />\n",
              "     <output id=\"result-0d4bdd0f-5b60-456f-8d31-ff10a00ee472\">\n",
              "      Upload widget is only available when the cell has been executed in the\n",
              "      current browser session. Please rerun this cell to enable.\n",
              "      </output>\n",
              "      <script src=\"/nbextensions/google.colab/files.js\"></script> "
            ],
            "text/plain": [
              "<IPython.core.display.HTML object>"
            ]
          },
          "metadata": {
            "tags": []
          }
        },
        {
          "output_type": "stream",
          "text": [
            "Saving Sky.csv to Sky.csv\n"
          ],
          "name": "stdout"
        }
      ]
    },
    {
      "metadata": {
        "id": "iJrDdYsfqKV3",
        "colab_type": "code",
        "outputId": "65e7ca0c-9f23-4bca-c7a6-a953d1d61158",
        "colab": {
          "base_uri": "https://localhost:8080/",
          "height": 3247
        }
      },
      "cell_type": "code",
      "source": [
        "# ~-----load desired data-----\n",
        "# import useful libraries\n",
        "import pandas as pd\n",
        "import io\n",
        "\n",
        "# store data in a Pandas dataframe\n",
        "df = pd.read_csv(io.StringIO(uploaded['Sky.csv'].decode('utf-8')))\n",
        "df.head"
      ],
      "execution_count": 0,
      "outputs": [
        {
          "output_type": "execute_result",
          "data": {
            "text/plain": [
              "<bound method NDFrame.head of              objid          ra        dec         u         g         r  \\\n",
              "0     1.237650e+18  183.531326   0.089693  19.47406  17.04240  15.94699   \n",
              "1     1.237650e+18  183.598371   0.135285  18.66280  17.21449  16.67637   \n",
              "2     1.237650e+18  183.680207   0.126185  19.38298  18.19169  17.47428   \n",
              "3     1.237650e+18  183.870529   0.049911  17.76536  16.60272  16.16116   \n",
              "4     1.237650e+18  183.883288   0.102557  17.55025  16.26342  16.43869   \n",
              "5     1.237650e+18  183.847174   0.173694  19.43133  18.46779  18.16451   \n",
              "6     1.237650e+18  183.864379   0.019201  19.38322  17.88995  17.10537   \n",
              "7     1.237650e+18  183.900081   0.187473  18.97993  17.84496  17.38022   \n",
              "8     1.237650e+18  183.924588   0.097246  17.90616  16.97172  16.67541   \n",
              "9     1.237650e+18  183.973498   0.081626  18.67249  17.71375  17.49362   \n",
              "10    1.237650e+18  183.979195   0.135998  19.29772  17.80227  17.18266   \n",
              "11    1.237650e+18  184.085331   0.112110  18.83307  17.51785  16.94273   \n",
              "12    1.237650e+18  184.102098   0.191511  19.56250  18.19113  17.65759   \n",
              "13    1.237650e+18  184.160510   0.075645  19.57990  17.72815  16.98740   \n",
              "14    1.237650e+18  184.189574   0.099482  19.25667  17.54869  16.63578   \n",
              "15    1.237650e+18  184.350647   0.207230  18.73832  18.60962  18.39696   \n",
              "16    1.237650e+18  184.221797   0.046955  19.05958  18.09512  17.92766   \n",
              "17    1.237650e+18  184.245664   0.198257  19.22143  19.30248  19.13823   \n",
              "18    1.237650e+18  184.388870   0.068287  19.04397  17.51106  16.87335   \n",
              "19    1.237650e+18  184.380919   0.174323  17.81661  16.86976  16.53884   \n",
              "20    1.237650e+18  184.466853   0.111965  19.39320  18.48274  18.16551   \n",
              "21    1.237650e+18  184.569411   0.137091  17.51339  16.41793  16.06695   \n",
              "22    1.237650e+18  184.654170   0.122673  19.07731  18.64518  18.49678   \n",
              "23    1.237650e+18  184.658795   0.159936  18.63032  17.23437  16.72749   \n",
              "24    1.237650e+18  184.516834   0.145550  19.21684  18.29956  18.19589   \n",
              "25    1.237650e+18  184.618563   0.080576  19.41270  17.47109  16.49870   \n",
              "26    1.237650e+18  184.627408   0.013234  18.48543  17.33900  16.90179   \n",
              "27    1.237650e+18  184.676762   0.059442  17.72835  16.19783  15.66073   \n",
              "28    1.237650e+18  184.711970   0.066572  17.70824  16.61069  16.19772   \n",
              "29    1.237650e+18  184.770204   0.198010  18.18974  17.23738  16.89113   \n",
              "...            ...         ...        ...       ...       ...       ...   \n",
              "9970  1.237650e+18  129.820081  50.685779  18.52528  17.41732  16.98770   \n",
              "9971  1.237650e+18  130.158429  50.762144  19.02172  17.89487  17.31329   \n",
              "9972  1.237650e+18  130.199315  51.000896  18.68415  17.78766  17.51412   \n",
              "9973  1.237650e+18  130.390557  50.911099  19.06059  18.09290  17.78405   \n",
              "9974  1.237650e+18  130.171015  50.955251  19.39402  18.14820  17.48041   \n",
              "9975  1.237650e+18  130.315380  51.013385  17.52183  16.35850  15.84101   \n",
              "9976  1.237650e+18  130.608094  51.012221  19.47647  17.46056  16.40154   \n",
              "9977  1.237650e+18  130.643134  51.060704  19.27703  18.70139  18.51972   \n",
              "9978  1.237650e+18  130.570838  51.127933  19.39394  17.47129  16.54575   \n",
              "9979  1.237650e+18  130.818299  51.204332  19.52465  19.14411  18.98649   \n",
              "9980  1.237650e+18  130.770044  51.247639  19.33009  17.37091  16.36515   \n",
              "9981  1.237650e+18  130.692527  51.332803  19.50854  18.11260  17.44901   \n",
              "9982  1.237650e+18  130.745374  51.349638  17.71841  16.63823  16.31214   \n",
              "9983  1.237650e+18  130.912335  51.334877  17.93836  16.82273  16.50460   \n",
              "9984  1.237650e+18  131.000507  51.311551  19.03042  17.44158  16.60432   \n",
              "9985  1.237650e+18  130.766303  51.325652  17.12925  15.53226  14.74467   \n",
              "9986  1.237650e+18  131.050203  51.391819  19.37797  17.91853  17.10964   \n",
              "9987  1.237650e+18  131.094692  51.376030  19.26109  18.13306  17.52770   \n",
              "9988  1.237650e+18  131.110555  51.388998  18.56496  16.80870  15.82913   \n",
              "9989  1.237650e+18  131.087729  51.405911  18.50840  16.51681  15.54049   \n",
              "9990  1.237650e+18  131.115570  51.447136  18.17880  16.71989  16.04004   \n",
              "9991  1.237650e+18  131.113284  51.490710  18.58806  16.61418  15.62407   \n",
              "9992  1.237650e+18  131.202820  51.499011  19.02614  18.13936  17.82697   \n",
              "9993  1.237650e+18  131.398915  51.533706  17.79613  16.02621  15.15955   \n",
              "9994  1.237650e+18  131.175791  51.679675  19.52000  18.46195  18.11317   \n",
              "9995  1.237650e+18  131.316413  51.539547  18.81777  17.47053  16.91508   \n",
              "9996  1.237650e+18  131.306083  51.671341  18.27255  17.43849  17.07692   \n",
              "9997  1.237650e+18  131.552562  51.666986  18.75818  17.77784  17.51872   \n",
              "9998  1.237650e+18  131.477151  51.753068  18.88287  17.91068  17.53152   \n",
              "9999  1.237650e+18  131.665012  51.805307  19.27586  17.37829  16.30542   \n",
              "\n",
              "             i         z   run  rerun  camcol  field     specobjid   class  \\\n",
              "0     15.50342  15.22531   752    301       4    267  3.722360e+18    STAR   \n",
              "1     16.48922  16.39150   752    301       4    267  3.638140e+17    STAR   \n",
              "2     17.08732  16.80125   752    301       4    268  3.232740e+17  GALAXY   \n",
              "3     15.98233  15.90438   752    301       4    269  3.722370e+18    STAR   \n",
              "4     16.55492  16.61326   752    301       4    269  3.722370e+18    STAR   \n",
              "5     18.01475  18.04155   752    301       4    269  3.649550e+17    STAR   \n",
              "6     16.66393  16.36955   752    301       4    269  3.232870e+17  GALAXY   \n",
              "7     17.20673  17.07071   752    301       4    269  3.722370e+18    STAR   \n",
              "8     16.53776  16.47596   752    301       4    270  3.638290e+17    STAR   \n",
              "9     17.28284  17.22644   752    301       4    270  3.243690e+17  GALAXY   \n",
              "10    16.92335  16.79928   752    301       4    270  3.722360e+18    STAR   \n",
              "11    16.71418  16.60521   752    301       4    271  3.722380e+18    STAR   \n",
              "12    17.47573  17.39203   752    301       4    271  3.722370e+18    STAR   \n",
              "13    16.68076  16.50426   752    301       4    271  3.722380e+18    STAR   \n",
              "14    16.14922  15.76639   752    301       4    271  3.243660e+17  GALAXY   \n",
              "15    18.31174  17.97663   752    301       4    272  3.232950e+17     QSO   \n",
              "16    17.89270  17.90772   752    301       4    272  3.648010e+17    STAR   \n",
              "17    19.11351  19.23454   752    301       4    272  3.232940e+17     QSO   \n",
              "18    16.61114  16.48303   752    301       4    273  3.638380e+17    STAR   \n",
              "19    16.19576  16.08668   752    301       4    273  3.233070e+17  GALAXY   \n",
              "20    18.05122  18.04328   752    301       4    273  3.649630e+17    STAR   \n",
              "21    15.93751  15.89478   752    301       4    274  3.243770e+17    STAR   \n",
              "22    18.52677  18.45765   752    301       4    274  3.243750e+17     QSO   \n",
              "23    16.51772  16.44039   752    301       4    274  2.880150e+18    STAR   \n",
              "24    18.14758  18.26658   752    301       4    274  3.722390e+18    STAR   \n",
              "25    16.06502  15.66848   752    301       4    274  3.243790e+17  GALAXY   \n",
              "26    16.66712  16.48684   752    301       4    274  3.233080e+17  GALAXY   \n",
              "27    15.51586  15.43615   752    301       4    275  2.880150e+18    STAR   \n",
              "28    16.06250  16.00229   752    301       4    275  3.722400e+18    STAR   \n",
              "29    16.75727  16.71052   752    301       4    275  2.880150e+18    STAR   \n",
              "...        ...       ...   ...    ...     ...    ...           ...     ...   \n",
              "9970  16.74671  16.54868  1345    301       3    153  5.011670e+17  GALAXY   \n",
              "9971  16.94097  16.72642  1345    301       3    154  5.011660e+17  GALAXY   \n",
              "9972  17.41314  17.37244  1345    301       3    155  4.162700e+18    STAR   \n",
              "9973  17.66861  17.65251  1345    301       3    155  8.231690e+18    STAR   \n",
              "9974  17.07932  16.89126  1345    301       3    155  5.011650e+17  GALAXY   \n",
              "9975  15.53401  15.26725  1345    301       3    156  5.011760e+17  GALAXY   \n",
              "9976  15.98281  15.59540  1345    301       3    157  5.011750e+17  GALAXY   \n",
              "9977  18.28529  18.32489  1345    301       3    157  5.011740e+17  GALAXY   \n",
              "9978  16.12287  15.75583  1345    301       3    157  5.011750e+17  GALAXY   \n",
              "9979  18.98454  18.78073  1345    301       3    158  5.033590e+17     QSO   \n",
              "9980  15.91382  15.53280  1345    301       3    158  5.011830e+17  GALAXY   \n",
              "9981  17.12710  16.84752  1345    301       3    158  5.011820e+17  GALAXY   \n",
              "9982  16.21565  16.16031  1345    301       3    159  5.011840e+17    STAR   \n",
              "9983  16.40109  16.35758  1345    301       3    159  8.211270e+18    STAR   \n",
              "9984  16.16952  15.87176  1345    301       3    159  5.011950e+17  GALAXY   \n",
              "9985  14.31073  13.90751  1345    301       3    159  5.011850e+17  GALAXY   \n",
              "9986  16.68906  16.36748  1345    301       3    160  5.011940e+17  GALAXY   \n",
              "9987  17.09327  16.84574  1345    301       3    160  5.011950e+17  GALAXY   \n",
              "9988  15.36071  14.98890  1345    301       3    160  5.011910e+17  GALAXY   \n",
              "9989  15.09710  14.77027  1345    301       3    160  5.011920e+17  GALAXY   \n",
              "9990  15.66338  15.38130  1345    301       3    160  5.033570e+17  GALAXY   \n",
              "9991  15.19113  14.83131  1345    301       3    160  5.011930e+17  GALAXY   \n",
              "9992  17.71318  17.71018  1345    301       3    161  8.211260e+18    STAR   \n",
              "9993  14.71488  14.33840  1345    301       3    161  5.033460e+17  GALAXY   \n",
              "9994  18.02245  17.99046  1345    301       3    161  8.211260e+18    STAR   \n",
              "9995  16.68305  16.50570  1345    301       3    161  5.033450e+17  GALAXY   \n",
              "9996  16.71661  16.69897  1345    301       3    162  5.033400e+17  GALAXY   \n",
              "9997  17.43302  17.42048  1345    301       3    162  8.222620e+18    STAR   \n",
              "9998  17.36284  17.13988  1345    301       3    163  5.033400e+17  GALAXY   \n",
              "9999  15.83548  15.50588  1345    301       3    163  5.033410e+17  GALAXY   \n",
              "\n",
              "      redshift  plate    mjd  fiberid  \n",
              "0    -0.000009   3306  54922      491  \n",
              "1    -0.000055    323  51615      541  \n",
              "2     0.123111    287  52023      513  \n",
              "3    -0.000111   3306  54922      510  \n",
              "4     0.000590   3306  54922      512  \n",
              "5     0.000315    324  51666      594  \n",
              "6     0.100242    287  52023      559  \n",
              "7     0.000315   3306  54922      515  \n",
              "8     0.000089    323  51615      595  \n",
              "9     0.040508    288  52000      400  \n",
              "10   -0.000035   3306  54922      506  \n",
              "11    0.000623   3306  54922      547  \n",
              "12    0.000055   3306  54922      544  \n",
              "13    0.000008   3306  54922      546  \n",
              "14    0.072087    288  52000      389  \n",
              "15    0.271937    287  52023      587  \n",
              "16    0.000210    324  51666       35  \n",
              "17    1.178098    287  52023      583  \n",
              "18    0.000240    323  51615      628  \n",
              "19    0.072772    287  52023      632  \n",
              "20   -0.000270    324  51666      623  \n",
              "21   -0.000035    288  52000      430  \n",
              "22    0.925173    288  52000      421  \n",
              "23    0.000004   2558  54140      356  \n",
              "24    0.000088   3306  54922      595  \n",
              "25    0.116783    288  52000      437  \n",
              "26    0.021297    287  52023      637  \n",
              "27    0.000175   2558  54140      358  \n",
              "28    0.000172   3306  54922      632  \n",
              "29    0.000520   2558  54140      349  \n",
              "...        ...    ...    ...      ...  \n",
              "9970  0.044856    445  51873      516  \n",
              "9971  0.073016    445  51873      510  \n",
              "9972 -0.000236   3697  55290      918  \n",
              "9973 -0.000020   7311  57038      863  \n",
              "9974  0.145913    445  51873      506  \n",
              "9975  0.038559    445  51873      548  \n",
              "9976  0.121568    445  51873      545  \n",
              "9977  0.111352    445  51873      541  \n",
              "9978  0.073597    445  51873      543  \n",
              "9979  0.903496    447  51877      296  \n",
              "9980  0.098118    445  51873      573  \n",
              "9981  0.097270    445  51873      568  \n",
              "9982 -0.000227    445  51873      575  \n",
              "9983  0.000022   7293  56741      288  \n",
              "9984  0.095191    445  51873      616  \n",
              "9985  0.030481    445  51873      580  \n",
              "9986  0.093830    445  51873      613  \n",
              "9987  0.098805    445  51873      617  \n",
              "9988  0.095859    445  51873      602  \n",
              "9989  0.096816    445  51873      606  \n",
              "9990  0.044909    447  51877      290  \n",
              "9991  0.096986    445  51873      609  \n",
              "9992  0.000315   7293  56741      254  \n",
              "9993  0.055515    447  51877      249  \n",
              "9994 -0.000056   7293  56741      259  \n",
              "9995  0.027583    447  51877      246  \n",
              "9996  0.117772    447  51877      228  \n",
              "9997 -0.000402   7303  57013      622  \n",
              "9998  0.014019    447  51877      229  \n",
              "9999  0.118417    447  51877      233  \n",
              "\n",
              "[10000 rows x 18 columns]>"
            ]
          },
          "metadata": {
            "tags": []
          },
          "execution_count": 6
        }
      ]
    }
  ]
}